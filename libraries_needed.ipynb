{
 "cells": [
  {
   "cell_type": "code",
   "execution_count": null,
   "id": "978c8f16-76d1-49a9-90ee-e092e26720ee",
   "metadata": {},
   "outputs": [],
   "source": [
    "# installing libraries before running the bot code\n"
   ]
  },
  {
   "cell_type": "code",
   "execution_count": null,
   "id": "934389ef-0a07-4fc2-bb98-0b6b997e1325",
   "metadata": {},
   "outputs": [],
   "source": [
    "!pip install groq\n",
    "!pip install langchain-groq"
   ]
  },
  {
   "cell_type": "code",
   "execution_count": null,
   "id": "19b4f86e-ed7c-40b0-b108-84650fa9756e",
   "metadata": {},
   "outputs": [],
   "source": [
    "!pip install dotenv\n",
    "!pip install chromadb\n"
   ]
  }
 ],
 "metadata": {
  "kernelspec": {
   "display_name": "Python 3 (ipykernel)",
   "language": "python",
   "name": "python3"
  },
  "language_info": {
   "codemirror_mode": {
    "name": "ipython",
    "version": 3
   },
   "file_extension": ".py",
   "mimetype": "text/x-python",
   "name": "python",
   "nbconvert_exporter": "python",
   "pygments_lexer": "ipython3",
   "version": "3.8.10"
  }
 },
 "nbformat": 4,
 "nbformat_minor": 5
}
